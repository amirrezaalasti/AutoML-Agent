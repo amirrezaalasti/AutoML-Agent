{
 "cells": [
  {
   "cell_type": "code",
   "execution_count": 7,
   "metadata": {},
   "outputs": [
    {
     "name": "stdout",
     "output_type": "stream",
     "text": [
      "[INFO][abstract_initial_design.py:139] Using 10 initial design configurations and 0 additional configurations.\n",
      "[INFO][smbo.py:509] Continuing from previous run.\n",
      "[INFO][smbo.py:278] Optimization process was already finished. Returning incumbent...\n"
     ]
    }
   ],
   "source": [
    "from ConfigSpace import Configuration, ConfigurationSpace\n",
    "\n",
    "import numpy as np\n",
    "from smac import HyperparameterOptimizationFacade, Scenario\n",
    "from sklearn import datasets\n",
    "from sklearn.svm import SVC\n",
    "from sklearn.model_selection import cross_val_score\n",
    "\n",
    "iris = datasets.load_iris()\n",
    "\n",
    "\n",
    "def train(config: Configuration, seed: int = 0) -> float:\n",
    "    classifier = SVC(C=config[\"C\"], random_state=seed)\n",
    "    scores = cross_val_score(classifier, iris.data, iris.target, cv=5)\n",
    "    return 1 - np.mean(scores)\n",
    "\n",
    "\n",
    "configspace = ConfigurationSpace({\"C\": (0.100, 1000.0)})\n",
    "\n",
    "# Scenario object specifying the optimization environment\n",
    "scenario = Scenario(configspace, deterministic=True, n_trials=200)\n",
    "\n",
    "# Use SMAC to find the best configuration/hyperparameters\n",
    "smac = HyperparameterOptimizationFacade(scenario, train)\n",
    "incumbent = smac.optimize()"
   ]
  },
  {
   "cell_type": "code",
   "execution_count": 5,
   "metadata": {},
   "outputs": [
    {
     "data": {
      "text/plain": [
       "Configuration(values={\n",
       "  'C': 6.5997719891441,\n",
       "})"
      ]
     },
     "execution_count": 5,
     "metadata": {},
     "output_type": "execute_result"
    }
   ],
   "source": [
    "incumbent"
   ]
  },
  {
   "cell_type": "code",
   "execution_count": 9,
   "metadata": {},
   "outputs": [
    {
     "name": "stdout",
     "output_type": "stream",
     "text": [
      "[INFO][abstract_initial_design.py:139] Using 10 initial design configurations and 0 additional configurations.\n",
      "[INFO][abstract_intensifier.py:307] Using only one seed for deterministic scenario.\n",
      "[INFO][abstract_intensifier.py:517] Added config e08add as new incumbent because there are no incumbents yet.\n",
      "[INFO][abstract_intensifier.py:596] Added config e86960 and rejected config e08add as incumbent because it is not better than the incumbents on 1 instances: \n",
      "[INFO][abstract_intensifier.py:596] Added config 78cf4a and rejected config e86960 as incumbent because it is not better than the incumbents on 1 instances: \n",
      "[INFO][abstract_intensifier.py:596] Added config 9c0078 and rejected config 78cf4a as incumbent because it is not better than the incumbents on 1 instances: \n",
      "[INFO][abstract_intensifier.py:596] Added config 468dc7 and rejected config 9c0078 as incumbent because it is not better than the incumbents on 1 instances: \n",
      "[INFO][abstract_intensifier.py:596] Added config 124616 and rejected config 468dc7 as incumbent because it is not better than the incumbents on 1 instances: \n",
      "[INFO][abstract_intensifier.py:596] Added config a0bfbc and rejected config 124616 as incumbent because it is not better than the incumbents on 1 instances: \n",
      "[INFO][abstract_intensifier.py:596] Added config 6efddc and rejected config a0bfbc as incumbent because it is not better than the incumbents on 1 instances: \n",
      "[INFO][abstract_intensifier.py:596] Added config 4d8d84 and rejected config 6efddc as incumbent because it is not better than the incumbents on 1 instances: \n",
      "[INFO][abstract_intensifier.py:596] Added config ebdfd3 and rejected config 4d8d84 as incumbent because it is not better than the incumbents on 1 instances: \n",
      "[INFO][abstract_intensifier.py:596] Added config f53365 and rejected config ebdfd3 as incumbent because it is not better than the incumbents on 1 instances: \n",
      "[INFO][abstract_intensifier.py:596] Added config 3518bc and rejected config f53365 as incumbent because it is not better than the incumbents on 1 instances: \n",
      "[INFO][abstract_intensifier.py:596] Added config 23db2d and rejected config 3518bc as incumbent because it is not better than the incumbents on 1 instances: \n",
      "[INFO][abstract_intensifier.py:596] Added config 799518 and rejected config 23db2d as incumbent because it is not better than the incumbents on 1 instances: \n",
      "[INFO][smbo.py:327] Finished 50 trials.\n",
      "[INFO][abstract_intensifier.py:596] Added config 1e68af and rejected config 799518 as incumbent because it is not better than the incumbents on 1 instances: \n",
      "[INFO][abstract_intensifier.py:596] Added config abd634 and rejected config 1e68af as incumbent because it is not better than the incumbents on 1 instances: \n",
      "[INFO][abstract_intensifier.py:596] Added config e30fdc and rejected config abd634 as incumbent because it is not better than the incumbents on 1 instances: \n",
      "[INFO][smbo.py:327] Finished 100 trials.\n",
      "[INFO][smbo.py:335] Configuration budget is exhausted:\n",
      "[INFO][smbo.py:336] --- Remaining wallclock time: inf\n",
      "[INFO][smbo.py:337] --- Remaining cpu time: inf\n",
      "[INFO][smbo.py:338] --- Remaining trials: 0\n",
      "[INFO][abstract_intensifier.py:307] Using only one seed for deterministic scenario.\n",
      "Default cost: 25.0\n",
      "Incumbent cost: 5.3775027324057646e-11\n"
     ]
    },
    {
     "data": {
      "image/png": "[encoded data removed]",
      "text/plain": [
       "<Figure size 640x480 with 1 Axes>"
      ]
     },
     "metadata": {},
     "output_type": "display_data"
    }
   ],
   "source": [
    "import numpy as np\n",
    "from ConfigSpace import Configuration, ConfigurationSpace, Float\n",
    "from matplotlib import pyplot as plt\n",
    "\n",
    "from smac.facade.hyperparameter_optimization_facade import HyperparameterOptimizationFacade as HPOFacade\n",
    "from smac import RunHistory, Scenario\n",
    "\n",
    "__copyright__ = \"Copyright 2025, Leibniz University Hanover, Institute of AI\"\n",
    "__license__ = \"3-clause BSD\"\n",
    "\n",
    "\n",
    "class QuadraticFunction:\n",
    "    @property\n",
    "    def configspace(self) -> ConfigurationSpace:\n",
    "        cs = ConfigurationSpace(seed=0)\n",
    "        x = Float(\"x\", (-5, 5), default=-5)\n",
    "        cs.add([x])\n",
    "\n",
    "        return cs\n",
    "\n",
    "    def train(self, config: Configuration, seed: int = 0) -> float:\n",
    "        \"\"\"Returns the y value of a quadratic function with a minimum we know to be at x=0.\"\"\"\n",
    "        x = config[\"x\"]\n",
    "        return x**2\n",
    "\n",
    "\n",
    "def plot(runhistory: RunHistory, incumbent: Configuration) -> None:\n",
    "    plt.figure()\n",
    "\n",
    "    # Plot ground truth\n",
    "    x = list(np.linspace(-5, 5, 100))\n",
    "    y = [xi * xi for xi in x]\n",
    "    plt.plot(x, y)\n",
    "\n",
    "    # Plot all trials\n",
    "    for k, v in runhistory.items():\n",
    "        config = runhistory.get_config(k.config_id)\n",
    "        x = config[\"x\"]\n",
    "        y = v.cost  # type: ignore\n",
    "        plt.scatter(x, y, c=\"blue\", alpha=0.1, zorder=9999, marker=\"o\")\n",
    "\n",
    "    # Plot incumbent\n",
    "    plt.scatter(incumbent[\"x\"], incumbent[\"x\"] * incumbent[\"x\"], c=\"red\", zorder=10000, marker=\"x\")\n",
    "\n",
    "    plt.show()\n",
    "\n",
    "\n",
    "if __name__ == \"__main__\":\n",
    "    model = QuadraticFunction()\n",
    "\n",
    "    # Scenario object specifying the optimization \"environment\"\n",
    "    scenario = Scenario(model.configspace, deterministic=True, n_trials=100)\n",
    "\n",
    "    # Now we use SMAC to find the best hyperparameters\n",
    "    smac = HPOFacade(\n",
    "        scenario,\n",
    "        model.train,  # We pass the target function here\n",
    "        overwrite=True,  # Overrides any previous results that are found that are inconsistent with the meta-data\n",
    "    )\n",
    "\n",
    "    incumbent = smac.optimize()\n",
    "\n",
    "    # Get cost of default configuration\n",
    "    default_cost = smac.validate(model.configspace.get_default_configuration())\n",
    "    print(f\"Default cost: {default_cost}\")\n",
    "\n",
    "    # Let's calculate the cost of the incumbent\n",
    "    incumbent_cost = smac.validate(incumbent)\n",
    "    print(f\"Incumbent cost: {incumbent_cost}\")\n",
    "\n",
    "    # Let's plot it too\n",
    "    plot(smac.runhistory, incumbent)"
   ]
  }
 ],
 "metadata": {
  "kernelspec": {
   "display_name": "3.9.13",
   "language": "python",
   "name": "python3"
  },
  "language_info": {
   "codemirror_mode": {
    "name": "ipython",
    "version": 3
   },
   "file_extension": ".py",
   "mimetype": "text/x-python",
   "name": "python",
   "nbconvert_exporter": "python",
   "pygments_lexer": "ipython3",
   "version": "3.10.13"
  }
 },
 "nbformat": 4,
 "nbformat_minor": 2
}
