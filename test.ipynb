{
 "cells": [
  {
   "cell_type": "code",
   "execution_count": 4,
   "id": "fb4ee2f3",
   "metadata": {},
   "outputs": [],
   "source": [
    "# 1st Example: Integer hyperparameters and float hyperparameters\n",
    "from ConfigSpace import ConfigurationSpace\n",
    "\n",
    "cs = ConfigurationSpace(\n",
    "    space={\n",
    "        \"C\": (-1.0, 1.0),  # Note the decimal to make it a float\n",
    "        \"max_iter\": (10, 100),\n",
    "    },\n",
    "    seed=1234,\n",
    ")"
   ]
  },
  {
   "cell_type": "code",
   "execution_count": null,
   "id": "a9166af1",
   "metadata": {},
   "outputs": [
    {
     "name": "stdout",
     "output_type": "stream",
     "text": [
      "Configuration space object:\n",
      "  Hyperparameters:\n",
      "    coef0, Type: UniformFloat, Range: [0.0, 1.0], Default: 0.0\n",
      "    degree, Type: UniformInteger, Range: [2, 4], Default: 2\n",
      "    gamma, Type: UniformFloat, Range: [1e-05, 100.0], Default: 1.0, on log-scale\n",
      "    kernel_type, Type: Categorical, Choices: {linear, poly, rbf, sigmoid}, Default: linear\n",
      "\n"
     ]
    }
   ],
   "source": [
    "# 2nd Example: Categorical hyperparameters and conditions#\n",
    "from ConfigSpace import ConfigurationSpace, Categorical, Float, Integer\n",
    "\n",
    "kernel_type = Categorical('kernel_type', ['linear', 'poly', 'rbf', 'sigmoid'])\n",
    "degree = Integer('degree', bounds=(2, 4), default=2)\n",
    "coef0 = Float('coef0', bounds=(0, 1), default=0.0)\n",
    "gamma = Float('gamma', bounds=(1e-5, 1e2), default=1, log=True)\n",
    "\n",
    "cs = ConfigurationSpace()\n",
    "cs.add([kernel_type, degree, coef0, gamma])\n",
    "\n",
    "from ConfigSpace import EqualsCondition, InCondition, OrConjunction\n",
    "\n",
    "# read as: \"degree is active if kernel_type == 'poly'\"\n",
    "cond_1 = EqualsCondition(degree, kernel_type, 'poly')\n",
    "\n",
    "# read as: \"coef0 is active if (kernel_type == 'poly' or kernel_type == 'sigmoid')\"\n",
    "# You could also define this using an InCondition as shown below\n",
    "cond_2 = OrConjunction(\n",
    "    EqualsCondition(coef0, kernel_type, 'poly'),\n",
    "    EqualsCondition(coef0, kernel_type, 'sigmoid')\n",
    ")\n",
    "\n",
    "# read as: \"gamma is active if kernel_type in ['rbf', 'poly', 'sigmoid']\"\n",
    "cond_3 = InCondition(gamma, kernel_type, ['rbf', 'poly','sigmoid'])\n",
    "\n"
   ]
  },
  {
   "cell_type": "code",
   "execution_count": null,
   "id": "85656a65",
   "metadata": {},
   "outputs": [],
   "source": [
    "# 3rd Example: Forbidden clauses#\n",
    "from ConfigSpace import ConfigurationSpace, Categorical, Constant\n",
    "\n",
    "cs = ConfigurationSpace()\n",
    "\n",
    "penalty = Categorical(\"penalty\", [\"l1\", \"l2\"], default=\"l2\")\n",
    "loss = Categorical(\"loss\", [\"hinge\", \"squared_hinge\"], default=\"squared_hinge\")\n",
    "dual = Constant(\"dual\", \"False\")\n",
    "cs.add([penalty, loss, dual])\n",
    "\n",
    "from ConfigSpace import ForbiddenEqualsClause, ForbiddenAndConjunction\n",
    "\n",
    "penalty_and_loss = ForbiddenAndConjunction(\n",
    "    ForbiddenEqualsClause(penalty, \"l1\"),\n",
    "    ForbiddenEqualsClause(loss, \"hinge\")\n",
    ")\n",
    "constant_penalty_and_loss = ForbiddenAndConjunction(\n",
    "    ForbiddenEqualsClause(dual, \"False\"),\n",
    "    ForbiddenEqualsClause(penalty, \"l2\"),\n",
    "    ForbiddenEqualsClause(loss, \"hinge\")\n",
    ")\n",
    "penalty_and_dual = ForbiddenAndConjunction(\n",
    "    ForbiddenEqualsClause(dual, \"False\"),\n",
    "    ForbiddenEqualsClause(penalty, \"l1\")\n",
    ")"
   ]
  },
  {
   "cell_type": "code",
   "execution_count": null,
   "id": "492b9dec",
   "metadata": {},
   "outputs": [],
   "source": [
    "# 4th Example Serialization#\n",
    "from pathlib import Path\n",
    "from ConfigSpace import ConfigurationSpace\n",
    "\n",
    "path = Path(\"configspace.yaml\")\n",
    "cs = ConfigurationSpace(\n",
    "    space={\n",
    "        \"C\": (-1.0, 1.0),  # Note the decimal to make it a float\n",
    "        \"max_iter\": (10, 100),\n",
    "    },\n",
    "    seed=1234,\n",
    ")\n",
    "cs.to_yaml(path)\n",
    "loaded_cs = ConfigurationSpace.from_yaml(path)\n",
    "\n",
    "with path.open() as f:\n",
    "    print(f.read())"
   ]
  },
  {
   "cell_type": "code",
   "execution_count": null,
   "id": "ae3efb19",
   "metadata": {},
   "outputs": [],
   "source": [
    "# 5th Example: Placing priors on the hyperparameters#\n",
    "import numpy as np\n",
    "from ConfigSpace import ConfigurationSpace, Float, Categorical, Beta, Normal\n",
    "\n",
    "cs = ConfigurationSpace(\n",
    "    space={\n",
    "        \"lr\": Float(\n",
    "            'lr',\n",
    "            bounds=(1e-5, 1e-1),\n",
    "            default=1e-3,\n",
    "            log=True,\n",
    "            distribution=Normal(1e-3, 1e-1)\n",
    "        ),\n",
    "        \"dropout\": Float(\n",
    "            'dropout',\n",
    "            bounds=(0, 0.99),\n",
    "            default=0.25,\n",
    "            distribution=Beta(alpha=2, beta=4)\n",
    "        ),\n",
    "        \"activation\": Categorical(\n",
    "            'activation',\n",
    "            items=['tanh', 'relu'],\n",
    "            weights=[0.2, 0.8]\n",
    "        ),\n",
    "    },\n",
    "    seed=1234,\n",
    ")\n",
    "print(cs)\n"
   ]
  },
  {
   "cell_type": "code",
   "execution_count": null,
   "id": "5e49e48d",
   "metadata": {},
   "outputs": [],
   "source": [
    "from ConfigSpace import Configuration\n"
   ]
  }
 ],
 "metadata": {
  "kernelspec": {
   "display_name": "SMAC",
   "language": "python",
   "name": "python3"
  },
  "language_info": {
   "codemirror_mode": {
    "name": "ipython",
    "version": 3
   },
   "file_extension": ".py",
   "mimetype": "text/x-python",
   "name": "python",
   "nbconvert_exporter": "python",
   "pygments_lexer": "ipython3",
   "version": "3.10.13"
  }
 },
 "nbformat": 4,
 "nbformat_minor": 5
}
