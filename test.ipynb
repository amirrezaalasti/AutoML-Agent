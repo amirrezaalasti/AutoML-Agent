{
 "cells": [
  {
   "cell_type": "code",
   "execution_count": 4,
   "id": "fb4ee2f3",
   "metadata": {},
   "outputs": [],
   "source": [
    "# 1st Example: Integer hyperparameters and float hyperparameters\n",
    "from ConfigSpace import ConfigurationSpace\n",
    "\n",
    "cs = ConfigurationSpace(\n",
    "    space={\n",
    "        \"C\": (-1.0, 1.0),  # Note the decimal to make it a float\n",
    "        \"max_iter\": (10, 100),\n",
    "    },\n",
    "    seed=1234,\n",
    ")"
   ]
  },
  {
   "cell_type": "code",
   "execution_count": null,
   "id": "a9166af1",
   "metadata": {},
   "outputs": [
    {
     "name": "stdout",
     "output_type": "stream",
     "text": [
      "Configuration space object:\n",
      "  Hyperparameters:\n",
      "    coef0, Type: UniformFloat, Range: [0.0, 1.0], Default: 0.0\n",
      "    degree, Type: UniformInteger, Range: [2, 4], Default: 2\n",
      "    gamma, Type: UniformFloat, Range: [1e-05, 100.0], Default: 1.0, on log-scale\n",
      "    kernel_type, Type: Categorical, Choices: {linear, poly, rbf, sigmoid}, Default: linear\n",
      "\n"
     ]
    }
   ],
   "source": [
    "# 2nd Example: Categorical hyperparameters and conditions#\n",
    "from ConfigSpace import ConfigurationSpace, Categorical, Float, Integer\n",
    "\n",
    "kernel_type = Categorical('kernel_type', ['linear', 'poly', 'rbf', 'sigmoid'])\n",
    "degree = Integer('degree', bounds=(2, 4), default=2)\n",
    "coef0 = Float('coef0', bounds=(0, 1), default=0.0)\n",
    "gamma = Float('gamma', bounds=(1e-5, 1e2), default=1, log=True)\n",
    "\n",
    "cs = ConfigurationSpace()\n",
    "cs.add([kernel_type, degree, coef0, gamma])\n",
    "\n",
    "from ConfigSpace import EqualsCondition, InCondition, OrConjunction\n",
    "\n",
    "# read as: \"degree is active if kernel_type == 'poly'\"\n",
    "cond_1 = EqualsCondition(degree, kernel_type, 'poly')\n",
    "\n",
    "# read as: \"coef0 is active if (kernel_type == 'poly' or kernel_type == 'sigmoid')\"\n",
    "# You could also define this using an InCondition as shown below\n",
    "cond_2 = OrConjunction(\n",
    "    EqualsCondition(coef0, kernel_type, 'poly'),\n",
    "    EqualsCondition(coef0, kernel_type, 'sigmoid')\n",
    ")\n",
    "\n",
    "# read as: \"gamma is active if kernel_type in ['rbf', 'poly', 'sigmoid']\"\n",
    "cond_3 = InCondition(gamma, kernel_type, ['rbf', 'poly','sigmoid'])\n",
    "\n"
   ]
  },
  {
   "cell_type": "code",
   "execution_count": null,
   "id": "85656a65",
   "metadata": {},
   "outputs": [],
   "source": [
    "# 3rd Example: Forbidden clauses#\n",
    "from ConfigSpace import ConfigurationSpace, Categorical, Constant\n",
    "\n",
    "cs = ConfigurationSpace()\n",
    "\n",
    "penalty = Categorical(\"penalty\", [\"l1\", \"l2\"], default=\"l2\")\n",
    "loss = Categorical(\"loss\", [\"hinge\", \"squared_hinge\"], default=\"squared_hinge\")\n",
    "dual = Constant(\"dual\", \"False\")\n",
    "cs.add([penalty, loss, dual])\n",
    "\n",
    "from ConfigSpace import ForbiddenEqualsClause, ForbiddenAndConjunction\n",
    "\n",
    "penalty_and_loss = ForbiddenAndConjunction(\n",
    "    ForbiddenEqualsClause(penalty, \"l1\"),\n",
    "    ForbiddenEqualsClause(loss, \"hinge\")\n",
    ")\n",
    "constant_penalty_and_loss = ForbiddenAndConjunction(\n",
    "    ForbiddenEqualsClause(dual, \"False\"),\n",
    "    ForbiddenEqualsClause(penalty, \"l2\"),\n",
    "    ForbiddenEqualsClause(loss, \"hinge\")\n",
    ")\n",
    "penalty_and_dual = ForbiddenAndConjunction(\n",
    "    ForbiddenEqualsClause(dual, \"False\"),\n",
    "    ForbiddenEqualsClause(penalty, \"l1\")\n",
    ")"
   ]
  },
  {
   "cell_type": "code",
   "execution_count": null,
   "id": "492b9dec",
   "metadata": {},
   "outputs": [],
   "source": [
    "# 4th Example Serialization#\n",
    "from pathlib import Path\n",
    "from ConfigSpace import ConfigurationSpace\n",
    "\n",
    "path = Path(\"configspace.yaml\")\n",
    "cs = ConfigurationSpace(\n",
    "    space={\n",
    "        \"C\": (-1.0, 1.0),  # Note the decimal to make it a float\n",
    "        \"max_iter\": (10, 100),\n",
    "    },\n",
    "    seed=1234,\n",
    ")\n",
    "cs.to_yaml(path)\n",
    "loaded_cs = ConfigurationSpace.from_yaml(path)\n",
    "\n",
    "with path.open() as f:\n",
    "    print(f.read())"
   ]
  },
  {
   "cell_type": "code",
   "execution_count": 3,
   "id": "ae3efb19",
   "metadata": {},
   "outputs": [
    {
     "name": "stdout",
     "output_type": "stream",
     "text": [
      "Configuration space object:\n",
      "  Hyperparameters:\n",
      "    activation, Type: Categorical, Choices: {tanh, relu}, Default: relu, Probabilities: [0.2 0.8]\n",
      "    dropout, Type: BetaFloat, Alpha: 2.0, Beta: 4.0, Range: [0.0, 0.99], Default: 0.25\n",
      "    lr, Type: NormalFloat, Mu: 0.001, Sigma: 0.1, Range: [1e-05, 0.1], Default: 0.001, on log-scale\n",
      "\n"
     ]
    }
   ],
   "source": [
    "# 5th Example: Placing priors on the hyperparameters#\n",
    "import numpy as np\n",
    "from ConfigSpace import ConfigurationSpace, Float, Categorical, Beta, Normal\n",
    "\n",
    "cs = ConfigurationSpace(\n",
    "    space={\n",
    "        \"lr\": Float(\n",
    "            'lr',\n",
    "            bounds=(1e-5, 1e-1),\n",
    "            default=1e-3,\n",
    "            log=True,\n",
    "            distribution=Normal(1e-3, 1e-1)\n",
    "        ),\n",
    "        \"dropout\": Float(\n",
    "            'dropout',\n",
    "            bounds=(0, 0.99),\n",
    "            default=0.25,\n",
    "            distribution=Beta(alpha=2, beta=4)\n",
    "        ),\n",
    "        \"activation\": Categorical(\n",
    "            'activation',\n",
    "            items=['tanh', 'relu'],\n",
    "            weights=[0.2, 0.8]\n",
    "        ),\n",
    "    },\n",
    "    seed=1234,\n",
    ")\n",
    "print(cs)\n"
   ]
  },
  {
   "cell_type": "code",
   "execution_count": null,
   "id": "5e49e48d",
   "metadata": {},
   "outputs": [],
   "source": [
    "from ConfigSpace import Configuration\n"
   ]
  },
  {
   "cell_type": "code",
   "execution_count": 4,
   "id": "47cca8ad",
   "metadata": {},
   "outputs": [],
   "source": [
    "from smac import Scenario\n",
    "\n",
    "def generate_scenario(cs):\n",
    "    scenario = Scenario({\n",
    "        'run_obj': 'quality',\n",
    "        'output_dir': './automl_results',\n",
    "        'shared_model': False,\n",
    "        'multi_objectives': ['validation_loss'],\n",
    "        'overall_obj': 'validation_loss',\n",
    "        'deterministic': False,\n",
    "        'wallclock_limit': 3600.0,\n",
    "        'abort_on_first_run_crash': True,\n",
    "        'limit_resources': True,\n",
    "        'memory_limit': 16000.0,\n",
    "        'cutoff': 300.0\n",
    "    })\n",
    "    return scenario\n",
    "\n",
    "scenario = generate_scenario(cs)"
   ]
  },
  {
   "cell_type": "code",
   "execution_count": 6,
   "id": "ed8aa2af",
   "metadata": {},
   "outputs": [
    {
     "data": {
      "text/plain": [
       "array([[0.98525351, 0.781331  , 0.90316584, 0.42289328, 0.0836624 ],\n",
       "       [0.09098289, 0.45530062, 0.8913916 , 0.55417661, 0.19638563],\n",
       "       [0.34897899, 0.89023083, 0.46529547, 0.62919728, 0.78103712],\n",
       "       [0.21140623, 0.78827005, 0.41219888, 0.18284856, 0.95699989],\n",
       "       [0.4160139 , 0.39566742, 0.68413273, 0.9207471 , 0.81198847],\n",
       "       [0.1554572 , 0.28036314, 0.04413612, 0.39658158, 0.05237825],\n",
       "       [0.56122639, 0.55022277, 0.39825877, 0.58396533, 0.46107929],\n",
       "       [0.69087577, 0.2232384 , 0.04952998, 0.64866486, 0.50059245],\n",
       "       [0.69802054, 0.18925913, 0.25659784, 0.16636338, 0.98976883],\n",
       "       [0.40259054, 0.33274224, 0.01593082, 0.50959103, 0.43491217]])"
      ]
     },
     "execution_count": 6,
     "metadata": {},
     "output_type": "execute_result"
    }
   ],
   "source": [
    "import numpy as np\n",
    "from types import SimpleNamespace\n",
    "X = np.random.rand(10, 5)\n",
    "y = np.random.rand(10, 1)\n",
    "\n",
    "\n",
    "mydict = dict(X=X, y=y)\n",
    "\n",
    "\n",
    "mydict = SimpleNamespace(**mydict)\n",
    "mydict.X"
   ]
  },
  {
   "cell_type": "code",
   "execution_count": 10,
   "id": "7a9889a8",
   "metadata": {},
   "outputs": [
    {
     "ename": "ModuleNotFoundError",
     "evalue": "No module named 'keras'",
     "output_type": "error",
     "traceback": [
      "\u001b[0;31m---------------------------------------------------------------------------\u001b[0m",
      "\u001b[0;31mModuleNotFoundError\u001b[0m                       Traceback (most recent call last)",
      "Cell \u001b[0;32mIn[10], line 1\u001b[0m\n\u001b[0;32m----> 1\u001b[0m \u001b[38;5;28;01mfrom\u001b[39;00m\u001b[38;5;250m \u001b[39m\u001b[38;5;21;01mkeras\u001b[39;00m\u001b[38;5;21;01m.\u001b[39;00m\u001b[38;5;21;01mdatasets\u001b[39;00m\u001b[38;5;250m \u001b[39m\u001b[38;5;28;01mimport\u001b[39;00m mnist\n",
      "\u001b[0;31mModuleNotFoundError\u001b[0m: No module named 'keras'"
     ]
    }
   ],
   "source": [
    "from keras.datasets import mnist"
   ]
  },
  {
   "cell_type": "code",
   "execution_count": 3,
   "id": "d7f90549",
   "metadata": {},
   "outputs": [],
   "source": [
    "# load mnist dataset\n",
    "mnist = fetch_openml('mnist_784', version=1)\n",
    "X, y = mnist.data, mnist.target\n"
   ]
  },
  {
   "cell_type": "code",
   "execution_count": 42,
   "id": "473ea1b0",
   "metadata": {},
   "outputs": [
    {
     "name": "stdout",
     "output_type": "stream",
     "text": [
      "Configuration space object:\n",
      "  Hyperparameters:\n",
      "    early_stopping, Type: Categorical, Choices: {True, False}, Default: False\n",
      "    eta0, Type: UniformFloat, Range: [0.0001, 1.0], Default: 0.01, on log-scale\n",
      "    learning_rate, Type: Categorical, Choices: {constant, invscaling, adaptive}, Default: constant\n",
      "    max_iter, Type: UniformInteger, Range: [100, 1000], Default: 200\n",
      "    n_jobs, Type: UniformInteger, Range: [1, 10], Default: 1\n",
      "    random_state, Type: UniformInteger, Range: [0, 100], Default: 42\n",
      "    tol, Type: UniformFloat, Range: [1e-06, 0.01], Default: 0.0001, on log-scale\n",
      "    validation_fraction, Type: UniformFloat, Range: [0.01, 0.5], Default: 0.1\n",
      "\n"
     ]
    }
   ],
   "source": [
    "from ConfigSpace import ConfigurationSpace, Categorical, Float, Integer, ForbiddenAndConjunction, ForbiddenEqualsClause, EqualsCondition\n",
    "\n",
    "def get_configspace():\n",
    "    cs = ConfigurationSpace(seed=1234)\n",
    "\n",
    "    learning_rate = Categorical('learning_rate', ['constant', 'invscaling', 'adaptive'])\n",
    "    eta0 = Float('eta0', bounds=(0.0001, 1.0), default=0.01, log=True)\n",
    "    max_iter = Integer('max_iter', bounds=(100, 1000), default=200)\n",
    "    tol = Float('tol', bounds=(1e-6, 1e-2), default=1e-4, log=True)\n",
    "    early_stopping = Categorical('early_stopping', ['True', 'False'], default='False')\n",
    "    validation_fraction = Float('validation_fraction', bounds=(0.01, 0.5), default=0.1)\n",
    "    n_jobs = Integer('n_jobs', bounds=(1, 10), default=1)\n",
    "    random_state = Integer('random_state', bounds=(0, 100), default=42)\n",
    "\n",
    "    cs.add([learning_rate, eta0, max_iter, tol, early_stopping, validation_fraction, n_jobs, random_state])\n",
    "\n",
    "    # cond_eta0 = EqualsCondition(eta0, learning_rate, 'constant')\n",
    "    # cs.add(cond_eta0)\n",
    "\n",
    "    # forbidden_eta0_and_max_iter = ForbiddenAndConjunction(\n",
    "    #     ForbiddenEqualsClause(eta0, 0.01),\n",
    "    #     ForbiddenEqualsClause(max_iter, 100)\n",
    "    # )\n",
    "    # cs.add(forbidden_eta0_and_max_iter)\n",
    "\n",
    "    return cs\n",
    "\n",
    "cs = get_configspace()\n",
    "print(cs)"
   ]
  },
  {
   "cell_type": "code",
   "execution_count": 44,
   "id": "db7258bb",
   "metadata": {},
   "outputs": [
    {
     "name": "stdout",
     "output_type": "stream",
     "text": [
      "Scenario(configspace=Configuration space object:\n",
      "  Hyperparameters:\n",
      "    early_stopping, Type: Categorical, Choices: {True, False}, Default: False\n",
      "    eta0, Type: UniformFloat, Range: [0.0001, 1.0], Default: 0.01, on log-scale\n",
      "    learning_rate, Type: Categorical, Choices: {constant, invscaling, adaptive}, Default: constant\n",
      "    max_iter, Type: UniformInteger, Range: [100, 1000], Default: 200\n",
      "    n_jobs, Type: UniformInteger, Range: [1, 10], Default: 1\n",
      "    random_state, Type: UniformInteger, Range: [0, 100], Default: 42\n",
      "    tol, Type: UniformFloat, Range: [1e-06, 0.01], Default: 0.0001, on log-scale\n",
      "    validation_fraction, Type: UniformFloat, Range: [0.01, 0.5], Default: 0.1\n",
      ", name=None, output_directory=PosixPath('smac3_output'), deterministic=True, objectives='cost', crash_cost=inf, termination_cost_threshold=inf, walltime_limit=inf, cputime_limit=inf, trial_walltime_limit=None, trial_memory_limit=None, n_trials=10, use_default_config=False, instances=None, instance_features=None, min_budget=None, max_budget=None, seed=0, n_workers=1)\n"
     ]
    }
   ],
   "source": [
    "from smac.scenario import Scenario\n",
    "\n",
    "def generate_scenario(cs):\n",
    "    scenario = Scenario(\n",
    "        configspace=cs,\n",
    "        deterministic=True,\n",
    "        n_trials=10,\n",
    "    )\n",
    "    return scenario\n",
    "scenario = generate_scenario(cs)\n",
    "print(scenario)"
   ]
  },
  {
   "cell_type": "code",
   "execution_count": 32,
   "id": "0458d252",
   "metadata": {},
   "outputs": [
    {
     "name": "stdout",
     "output_type": "stream",
     "text": [
      "['early_stopping', 'eta0', 'learning_rate', 'max_iter', 'n_jobs', 'random_state', 'tol', 'validation_fraction']\n"
     ]
    }
   ],
   "source": [
    "print([p.name for p in list(cs.values())])"
   ]
  },
  {
   "cell_type": "code",
   "execution_count": 45,
   "id": "b48d41f1",
   "metadata": {},
   "outputs": [
    {
     "data": {
      "text/plain": [
       "Configuration space object:\n",
       "  Hyperparameters:\n",
       "    early_stopping, Type: Categorical, Choices: {True, False}, Default: False\n",
       "    eta0, Type: UniformFloat, Range: [0.0001, 1.0], Default: 0.01, on log-scale\n",
       "    learning_rate, Type: Categorical, Choices: {constant, invscaling, adaptive}, Default: constant\n",
       "    max_iter, Type: UniformInteger, Range: [100, 1000], Default: 200\n",
       "    n_jobs, Type: UniformInteger, Range: [1, 10], Default: 1\n",
       "    random_state, Type: UniformInteger, Range: [0, 100], Default: 42\n",
       "    tol, Type: UniformFloat, Range: [1e-06, 0.01], Default: 0.0001, on log-scale\n",
       "    validation_fraction, Type: UniformFloat, Range: [0.01, 0.5], Default: 0.1"
      ]
     },
     "execution_count": 45,
     "metadata": {},
     "output_type": "execute_result"
    }
   ],
   "source": [
    "scenario.configspace"
   ]
  },
  {
   "cell_type": "code",
   "execution_count": 46,
   "id": "1e3c8207",
   "metadata": {},
   "outputs": [],
   "source": [
    "import numpy as np\n",
    "from sklearn.neural_network import MLPClassifier\n",
    "from sklearn.metrics import log_loss\n",
    "from ConfigSpace import Configuration\n",
    "\n",
    "def train(cfg: Configuration, seed: int, dataset: dict) -> float:\n",
    "    \"\"\"\n",
    "    Train a neural network model on the given dataset.\n",
    "\n",
    "    Args:\n",
    "    - cfg (Configuration): A Configuration object containing hyperparameters.\n",
    "    - seed (int): The random seed for reproducibility.\n",
    "    - dataset (dict): A dictionary containing the feature matrix 'X' and label vector 'y'.\n",
    "\n",
    "    Returns:\n",
    "    - loss (float): The average training loss over 10 epochs.\n",
    "    \"\"\"\n",
    "\n",
    "    # Get input and output dimensions dynamically from the dataset\n",
    "    input_size = dataset['X'].shape[1]\n",
    "    num_classes = len(np.unique(dataset['y']))\n",
    "\n",
    "    # Get hyperparameters from the configuration\n",
    "    learning_rate = cfg.get('learning_rate')\n",
    "    eta0 = cfg.get('eta0')\n",
    "    max_iter = cfg.get('max_iter')\n",
    "    tol = cfg.get('tol')\n",
    "    early_stopping = cfg.get('early_stopping') == 'True'\n",
    "    validation_fraction = cfg.get('validation_fraction')\n",
    "    n_jobs = cfg.get('n_jobs')\n",
    "    warm_start = cfg.get('warm_start') == 'True'\n",
    "    momentum = cfg.get('momentum')\n",
    "    nesterovs_momentum = cfg.get('nesterovs_momentum') == 'True'\n",
    "    power_t = cfg.get('power_t')\n",
    "\n",
    "    # Create a neural network model\n",
    "    if learning_rate == 'constant':\n",
    "        # Use SGD with lr=eta0\n",
    "        model = MLPClassifier(hidden_layer_sizes=(50,), max_iter=max_iter, tol=tol, \n",
    "                               early_stopping=early_stopping, validation_fraction=validation_fraction, \n",
    "                               random_state=seed, learning_rate_init=eta0, momentum=momentum, \n",
    "                               nesterovs_momentum=nesterovs_momentum)\n",
    "    elif learning_rate == 'invscaling':\n",
    "        # Use SGD with lr=eta0 and momentum=power_t\n",
    "        model = MLPClassifier(hidden_layer_sizes=(50,), max_iter=max_iter, tol=tol, \n",
    "                               early_stopping=early_stopping, validation_fraction=validation_fraction, \n",
    "                               random_state=seed, learning_rate_init=eta0, momentum=momentum, \n",
    "                               nesterovs_momentum=nesterovs_momentum, power_t=power_t)\n",
    "    elif learning_rate == 'adaptive':\n",
    "        # Use Adam or equivalent with lr=eta0\n",
    "        model = MLPClassifier(hidden_layer_sizes=(50,), max_iter=max_iter, tol=tol, \n",
    "                               early_stopping=early_stopping, validation_fraction=validation_fraction, \n",
    "                               random_state=seed, learning_rate_init=eta0, solver='adam')\n",
    "\n",
    "    # Train the model\n",
    "    model.fit(dataset['X'], dataset['y'])\n",
    "\n",
    "    # Calculate the average training loss over 10 epochs\n",
    "    losses = []\n",
    "    for _ in range(10):\n",
    "        model.fit(dataset['X'], dataset['y'])\n",
    "        losses.append(log_loss(dataset['y'], model.predict_proba(dataset['X'])))\n",
    "    loss = np.mean(losses)\n",
    "\n",
    "    return loss\n"
   ]
  },
  {
   "cell_type": "code",
   "execution_count": 47,
   "id": "ffbe2532",
   "metadata": {},
   "outputs": [
    {
     "name": "stdout",
     "output_type": "stream",
     "text": [
      "<class 'ConfigSpace.configuration_space.ConfigurationSpace'>\n"
     ]
    }
   ],
   "source": [
    "cs = get_configspace()\n",
    "print(type(cs))  # Should output: <class 'ConfigSpace.configuration_space.ConfigurationSpace'>\n"
   ]
  },
  {
   "cell_type": "code",
   "execution_count": null,
   "id": "32be8582",
   "metadata": {},
   "outputs": [
    {
     "name": "stdout",
     "output_type": "stream",
     "text": [
      "[INFO][abstract_initial_design.py:87] Reducing the number of initial configurations from 80 to 2 (max_ratio == 0.25).\n",
      "[WARNING][target_function_runner.py:74] The argument dataset is not set by SMAC: Consider removing it from the target function.\n",
      "[INFO][abstract_initial_design.py:139] Using 2 initial design configurations and 0 additional configurations.\n",
      "[INFO][abstract_intensifier.py:307] Using only one seed for deterministic scenario.\n",
      "[WARNING][abstract_runner.py:135] Target function returned infinity or nothing at all. Result is treated as CRASHED and cost is set to inf.\n",
      "[WARNING][abstract_runner.py:141] Traceback: Traceback (most recent call last):\n",
      "  File \"/opt/anaconda3/envs/SMAC/lib/python3.10/site-packages/smac/runner/target_function_runner.py\", line 190, in run\n",
      "    rval = self(config_copy, target_function, kwargs)\n",
      "  File \"/opt/anaconda3/envs/SMAC/lib/python3.10/site-packages/smac/runner/target_function_runner.py\", line 264, in __call__\n",
      "    return algorithm(config, **algorithm_kwargs)\n",
      "TypeError: train() missing 1 required positional argument: 'dataset'\n",
      "\n",
      "\n",
      "[INFO][abstract_intensifier.py:517] Added config d8c8c3 as new incumbent because there are no incumbents yet.\n",
      "[WARNING][abstract_runner.py:135] Target function returned infinity or nothing at all. Result is treated as CRASHED and cost is set to inf.\n",
      "[WARNING][abstract_runner.py:141] Traceback: Traceback (most recent call last):\n",
      "  File \"/opt/anaconda3/envs/SMAC/lib/python3.10/site-packages/smac/runner/target_function_runner.py\", line 190, in run\n",
      "    rval = self(config_copy, target_function, kwargs)\n",
      "  File \"/opt/anaconda3/envs/SMAC/lib/python3.10/site-packages/smac/runner/target_function_runner.py\", line 264, in __call__\n",
      "    return algorithm(config, **algorithm_kwargs)\n",
      "TypeError: train() missing 1 required positional argument: 'dataset'\n",
      "\n",
      "\n"
     ]
    },
    {
     "name": "stderr",
     "output_type": "stream",
     "text": [
      "/opt/anaconda3/envs/SMAC/lib/python3.10/site-packages/numpy/lib/function_base.py:4573: RuntimeWarning: invalid value encountered in subtract\n",
      "  diff_b_a = subtract(b, a)\n",
      "/opt/anaconda3/envs/SMAC/lib/python3.10/site-packages/smac/model/random_forest/random_forest.py:222: RuntimeWarning: Mean of empty slice\n",
      "  preds_as_array = np.log(np.nanmean(np.exp(preds_as_array), axis=2) + VERY_SMALL_NUMBER)\n",
      "/opt/anaconda3/envs/SMAC/lib/python3.10/site-packages/smac/model/random_forest/random_forest.py:222: RuntimeWarning: Mean of empty slice\n",
      "  preds_as_array = np.log(np.nanmean(np.exp(preds_as_array), axis=2) + VERY_SMALL_NUMBER)\n",
      "/opt/anaconda3/envs/SMAC/lib/python3.10/site-packages/smac/model/random_forest/random_forest.py:222: RuntimeWarning: Mean of empty slice\n",
      "  preds_as_array = np.log(np.nanmean(np.exp(preds_as_array), axis=2) + VERY_SMALL_NUMBER)\n",
      "/opt/anaconda3/envs/SMAC/lib/python3.10/site-packages/smac/model/random_forest/random_forest.py:222: RuntimeWarning: Mean of empty slice\n",
      "  preds_as_array = np.log(np.nanmean(np.exp(preds_as_array), axis=2) + VERY_SMALL_NUMBER)\n",
      "/opt/anaconda3/envs/SMAC/lib/python3.10/site-packages/smac/model/random_forest/random_forest.py:222: RuntimeWarning: Mean of empty slice\n",
      "  preds_as_array = np.log(np.nanmean(np.exp(preds_as_array), axis=2) + VERY_SMALL_NUMBER)\n",
      "/opt/anaconda3/envs/SMAC/lib/python3.10/site-packages/smac/model/random_forest/random_forest.py:222: RuntimeWarning: Mean of empty slice\n",
      "  preds_as_array = np.log(np.nanmean(np.exp(preds_as_array), axis=2) + VERY_SMALL_NUMBER)\n",
      "/opt/anaconda3/envs/SMAC/lib/python3.10/site-packages/smac/model/random_forest/random_forest.py:222: RuntimeWarning: Mean of empty slice\n",
      "  preds_as_array = np.log(np.nanmean(np.exp(preds_as_array), axis=2) + VERY_SMALL_NUMBER)\n",
      "/opt/anaconda3/envs/SMAC/lib/python3.10/site-packages/smac/model/random_forest/random_forest.py:222: RuntimeWarning: Mean of empty slice\n",
      "  preds_as_array = np.log(np.nanmean(np.exp(preds_as_array), axis=2) + VERY_SMALL_NUMBER)\n",
      "/opt/anaconda3/envs/SMAC/lib/python3.10/site-packages/smac/model/random_forest/random_forest.py:222: RuntimeWarning: Mean of empty slice\n",
      "  preds_as_array = np.log(np.nanmean(np.exp(preds_as_array), axis=2) + VERY_SMALL_NUMBER)\n",
      "/opt/anaconda3/envs/SMAC/lib/python3.10/site-packages/smac/model/random_forest/random_forest.py:222: RuntimeWarning: Mean of empty slice\n",
      "  preds_as_array = np.log(np.nanmean(np.exp(preds_as_array), axis=2) + VERY_SMALL_NUMBER)\n",
      "/opt/anaconda3/envs/SMAC/lib/python3.10/site-packages/smac/model/random_forest/random_forest.py:222: RuntimeWarning: Mean of empty slice\n",
      "  preds_as_array = np.log(np.nanmean(np.exp(preds_as_array), axis=2) + VERY_SMALL_NUMBER)\n",
      "/opt/anaconda3/envs/SMAC/lib/python3.10/site-packages/smac/model/random_forest/random_forest.py:222: RuntimeWarning: Mean of empty slice\n",
      "  preds_as_array = np.log(np.nanmean(np.exp(preds_as_array), axis=2) + VERY_SMALL_NUMBER)\n",
      "/opt/anaconda3/envs/SMAC/lib/python3.10/site-packages/smac/model/random_forest/random_forest.py:222: RuntimeWarning: Mean of empty slice\n",
      "  preds_as_array = np.log(np.nanmean(np.exp(preds_as_array), axis=2) + VERY_SMALL_NUMBER)\n"
     ]
    },
    {
     "name": "stdout",
     "output_type": "stream",
     "text": [
      "[WARNING][abstract_runner.py:135] Target function returned infinity or nothing at all. Result is treated as CRASHED and cost is set to inf.\n",
      "[WARNING][abstract_runner.py:141] Traceback: Traceback (most recent call last):\n",
      "  File \"/opt/anaconda3/envs/SMAC/lib/python3.10/site-packages/smac/runner/target_function_runner.py\", line 190, in run\n",
      "    rval = self(config_copy, target_function, kwargs)\n",
      "  File \"/opt/anaconda3/envs/SMAC/lib/python3.10/site-packages/smac/runner/target_function_runner.py\", line 264, in __call__\n",
      "    return algorithm(config, **algorithm_kwargs)\n",
      "TypeError: train() missing 1 required positional argument: 'dataset'\n",
      "\n",
      "\n",
      "[WARNING][abstract_runner.py:135] Target function returned infinity or nothing at all. Result is treated as CRASHED and cost is set to inf.\n",
      "[WARNING][abstract_runner.py:141] Traceback: Traceback (most recent call last):\n",
      "  File \"/opt/anaconda3/envs/SMAC/lib/python3.10/site-packages/smac/runner/target_function_runner.py\", line 190, in run\n",
      "    rval = self(config_copy, target_function, kwargs)\n",
      "  File \"/opt/anaconda3/envs/SMAC/lib/python3.10/site-packages/smac/runner/target_function_runner.py\", line 264, in __call__\n",
      "    return algorithm(config, **algorithm_kwargs)\n",
      "TypeError: train() missing 1 required positional argument: 'dataset'\n",
      "\n",
      "\n",
      "[WARNING][abstract_runner.py:135] Target function returned infinity or nothing at all. Result is treated as CRASHED and cost is set to inf.\n",
      "[WARNING][abstract_runner.py:141] Traceback: Traceback (most recent call last):\n",
      "  File \"/opt/anaconda3/envs/SMAC/lib/python3.10/site-packages/smac/runner/target_function_runner.py\", line 190, in run\n",
      "    rval = self(config_copy, target_function, kwargs)\n",
      "  File \"/opt/anaconda3/envs/SMAC/lib/python3.10/site-packages/smac/runner/target_function_runner.py\", line 264, in __call__\n",
      "    return algorithm(config, **algorithm_kwargs)\n",
      "TypeError: train() missing 1 required positional argument: 'dataset'\n",
      "\n",
      "\n",
      "[WARNING][abstract_runner.py:135] Target function returned infinity or nothing at all. Result is treated as CRASHED and cost is set to inf.\n",
      "[WARNING][abstract_runner.py:141] Traceback: Traceback (most recent call last):\n",
      "  File \"/opt/anaconda3/envs/SMAC/lib/python3.10/site-packages/smac/runner/target_function_runner.py\", line 190, in run\n",
      "    rval = self(config_copy, target_function, kwargs)\n",
      "  File \"/opt/anaconda3/envs/SMAC/lib/python3.10/site-packages/smac/runner/target_function_runner.py\", line 264, in __call__\n",
      "    return algorithm(config, **algorithm_kwargs)\n",
      "TypeError: train() missing 1 required positional argument: 'dataset'\n",
      "\n",
      "\n",
      "[WARNING][abstract_runner.py:135] Target function returned infinity or nothing at all. Result is treated as CRASHED and cost is set to inf.\n",
      "[WARNING][abstract_runner.py:141] Traceback: Traceback (most recent call last):\n",
      "  File \"/opt/anaconda3/envs/SMAC/lib/python3.10/site-packages/smac/runner/target_function_runner.py\", line 190, in run\n",
      "    rval = self(config_copy, target_function, kwargs)\n",
      "  File \"/opt/anaconda3/envs/SMAC/lib/python3.10/site-packages/smac/runner/target_function_runner.py\", line 264, in __call__\n",
      "    return algorithm(config, **algorithm_kwargs)\n",
      "TypeError: train() missing 1 required positional argument: 'dataset'\n",
      "\n",
      "\n",
      "[WARNING][abstract_runner.py:135] Target function returned infinity or nothing at all. Result is treated as CRASHED and cost is set to inf.\n",
      "[WARNING][abstract_runner.py:141] Traceback: Traceback (most recent call last):\n",
      "  File \"/opt/anaconda3/envs/SMAC/lib/python3.10/site-packages/smac/runner/target_function_runner.py\", line 190, in run\n",
      "    rval = self(config_copy, target_function, kwargs)\n",
      "  File \"/opt/anaconda3/envs/SMAC/lib/python3.10/site-packages/smac/runner/target_function_runner.py\", line 264, in __call__\n",
      "    return algorithm(config, **algorithm_kwargs)\n",
      "TypeError: train() missing 1 required positional argument: 'dataset'\n",
      "\n",
      "\n",
      "[WARNING][abstract_runner.py:135] Target function returned infinity or nothing at all. Result is treated as CRASHED and cost is set to inf.\n",
      "[WARNING][abstract_runner.py:141] Traceback: Traceback (most recent call last):\n",
      "  File \"/opt/anaconda3/envs/SMAC/lib/python3.10/site-packages/smac/runner/target_function_runner.py\", line 190, in run\n",
      "    rval = self(config_copy, target_function, kwargs)\n",
      "  File \"/opt/anaconda3/envs/SMAC/lib/python3.10/site-packages/smac/runner/target_function_runner.py\", line 264, in __call__\n",
      "    return algorithm(config, **algorithm_kwargs)\n",
      "TypeError: train() missing 1 required positional argument: 'dataset'\n",
      "\n",
      "\n",
      "[WARNING][abstract_runner.py:135] Target function returned infinity or nothing at all. Result is treated as CRASHED and cost is set to inf.\n",
      "[WARNING][abstract_runner.py:141] Traceback: Traceback (most recent call last):\n",
      "  File \"/opt/anaconda3/envs/SMAC/lib/python3.10/site-packages/smac/runner/target_function_runner.py\", line 190, in run\n",
      "    rval = self(config_copy, target_function, kwargs)\n",
      "  File \"/opt/anaconda3/envs/SMAC/lib/python3.10/site-packages/smac/runner/target_function_runner.py\", line 264, in __call__\n",
      "    return algorithm(config, **algorithm_kwargs)\n",
      "TypeError: train() missing 1 required positional argument: 'dataset'\n",
      "\n",
      "\n",
      "[INFO][smbo.py:335] Configuration budget is exhausted:\n",
      "[INFO][smbo.py:336] --- Remaining wallclock time: inf\n",
      "[INFO][smbo.py:337] --- Remaining cpu time: inf\n",
      "[INFO][smbo.py:338] --- Remaining trials: 0\n"
     ]
    },
    {
     "name": "stderr",
     "output_type": "stream",
     "text": [
      "/opt/anaconda3/envs/SMAC/lib/python3.10/site-packages/smac/model/random_forest/random_forest.py:222: RuntimeWarning: Mean of empty slice\n",
      "  preds_as_array = np.log(np.nanmean(np.exp(preds_as_array), axis=2) + VERY_SMALL_NUMBER)\n",
      "/opt/anaconda3/envs/SMAC/lib/python3.10/site-packages/smac/model/random_forest/random_forest.py:222: RuntimeWarning: Mean of empty slice\n",
      "  preds_as_array = np.log(np.nanmean(np.exp(preds_as_array), axis=2) + VERY_SMALL_NUMBER)\n",
      "/opt/anaconda3/envs/SMAC/lib/python3.10/site-packages/smac/model/random_forest/random_forest.py:222: RuntimeWarning: Mean of empty slice\n",
      "  preds_as_array = np.log(np.nanmean(np.exp(preds_as_array), axis=2) + VERY_SMALL_NUMBER)\n",
      "/opt/anaconda3/envs/SMAC/lib/python3.10/site-packages/smac/model/random_forest/random_forest.py:222: RuntimeWarning: Mean of empty slice\n",
      "  preds_as_array = np.log(np.nanmean(np.exp(preds_as_array), axis=2) + VERY_SMALL_NUMBER)\n",
      "/opt/anaconda3/envs/SMAC/lib/python3.10/site-packages/smac/model/random_forest/random_forest.py:222: RuntimeWarning: Mean of empty slice\n",
      "  preds_as_array = np.log(np.nanmean(np.exp(preds_as_array), axis=2) + VERY_SMALL_NUMBER)\n",
      "/opt/anaconda3/envs/SMAC/lib/python3.10/site-packages/smac/model/random_forest/random_forest.py:222: RuntimeWarning: Mean of empty slice\n",
      "  preds_as_array = np.log(np.nanmean(np.exp(preds_as_array), axis=2) + VERY_SMALL_NUMBER)\n",
      "/opt/anaconda3/envs/SMAC/lib/python3.10/site-packages/smac/model/random_forest/random_forest.py:222: RuntimeWarning: Mean of empty slice\n",
      "  preds_as_array = np.log(np.nanmean(np.exp(preds_as_array), axis=2) + VERY_SMALL_NUMBER)\n",
      "/opt/anaconda3/envs/SMAC/lib/python3.10/site-packages/smac/model/random_forest/random_forest.py:222: RuntimeWarning: Mean of empty slice\n",
      "  preds_as_array = np.log(np.nanmean(np.exp(preds_as_array), axis=2) + VERY_SMALL_NUMBER)\n"
     ]
    },
    {
     "ename": "AttributeError",
     "evalue": "'HyperparameterOptimizationFacade' object has no attribute 'run'",
     "output_type": "error",
     "traceback": [
      "\u001b[0;31m---------------------------------------------------------------------------\u001b[0m",
      "\u001b[0;31mAttributeError\u001b[0m                            Traceback (most recent call last)",
      "Cell \u001b[0;32mIn[50], line 10\u001b[0m\n\u001b[1;32m      3\u001b[0m smac \u001b[38;5;241m=\u001b[39m HyperparameterOptimizationFacade(\n\u001b[1;32m      4\u001b[0m             scenario,\n\u001b[1;32m      5\u001b[0m             train,  \u001b[38;5;66;03m# We pass the target function here\u001b[39;00m\n\u001b[1;32m      6\u001b[0m             overwrite\u001b[38;5;241m=\u001b[39m\u001b[38;5;28;01mTrue\u001b[39;00m,  \u001b[38;5;66;03m# Overrides any previous results that are found that are inconsistent with the meta-data\u001b[39;00m\n\u001b[1;32m      7\u001b[0m         )\n\u001b[1;32m      8\u001b[0m smac\u001b[38;5;241m.\u001b[39moptimize()\n\u001b[0;32m---> 10\u001b[0m \u001b[43msmac\u001b[49m\u001b[38;5;241;43m.\u001b[39;49m\u001b[43mrun\u001b[49m()\n",
      "\u001b[0;31mAttributeError\u001b[0m: 'HyperparameterOptimizationFacade' object has no attribute 'run'"
     ]
    }
   ],
   "source": [
    "from smac import HyperparameterOptimizationFacade, Scenario\n",
    "\n",
    "smac = HyperparameterOptimizationFacade(\n",
    "            scenario,\n",
    "            train,  # We pass the target function here\n",
    "            overwrite=True,  # Overrides any previous results that are found that are inconsistent with the meta-data\n",
    "        )\n",
    "smac.optimize()\n"
   ]
  },
  {
   "cell_type": "code",
   "execution_count": 41,
   "id": "6358321b",
   "metadata": {},
   "outputs": [
    {
     "name": "stdout",
     "output_type": "stream",
     "text": [
      "Configuration space object:\n",
      "  Hyperparameters:\n",
      "    C, Type: UniformFloat, Range: [0.1, 1000.0], Default: 500.05\n",
      "\n"
     ]
    }
   ],
   "source": [
    "configspace = ConfigurationSpace({\"C\": (0.100, 1000.0)})\n",
    "print(configspace)"
   ]
  },
  {
   "cell_type": "code",
   "execution_count": 27,
   "id": "df898cce",
   "metadata": {},
   "outputs": [
    {
     "name": "stdout",
     "output_type": "stream",
     "text": [
      "[INFO][abstract_initial_design.py:139] Using 10 initial design configurations and 0 additional configurations.\n",
      "[INFO][smbo.py:509] Continuing from previous run.\n",
      "[INFO][smbo.py:278] Optimization process was already finished. Returning incumbent...\n"
     ]
    }
   ],
   "source": [
    "from ConfigSpace import Configuration, ConfigurationSpace\n",
    "\n",
    "import numpy as np\n",
    "from smac import HyperparameterOptimizationFacade, Scenario\n",
    "from sklearn import datasets\n",
    "from sklearn.svm import SVC\n",
    "from sklearn.model_selection import cross_val_score\n",
    "\n",
    "iris = datasets.load_iris()\n",
    "\n",
    "\n",
    "def train(config: Configuration, seed: int = 0) -> float:\n",
    "    classifier = SVC(C=config[\"C\"], random_state=seed)\n",
    "    scores = cross_val_score(classifier, iris.data, iris.target, cv=5)\n",
    "    return 1 - np.mean(scores)\n",
    "\n",
    "\n",
    "configspace = ConfigurationSpace({\"C\": (0.100, 1000.0)})\n",
    "\n",
    "# Scenario object specifying the optimization environment\n",
    "scenario = Scenario(configspace, deterministic=True, n_trials=200)\n",
    "\n",
    "# Use SMAC to find the best configuration/hyperparameters\n",
    "smac = HyperparameterOptimizationFacade(scenario, train)\n",
    "incumbent = smac.optimize()"
   ]
  }
 ],
 "metadata": {
  "kernelspec": {
   "display_name": "SMAC",
   "language": "python",
   "name": "python3"
  },
  "language_info": {
   "codemirror_mode": {
    "name": "ipython",
    "version": 3
   },
   "file_extension": ".py",
   "mimetype": "text/x-python",
   "name": "python",
   "nbconvert_exporter": "python",
   "pygments_lexer": "ipython3",
   "version": "3.10.8"
  }
 },
 "nbformat": 4,
 "nbformat_minor": 5
}
