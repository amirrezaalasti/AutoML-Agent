{
 "cells": [
  {
   "cell_type": "code",
   "execution_count": 7,
   "id": "fb4ee2f3",
   "metadata": {},
   "outputs": [],
   "source": [
    "from ConfigSpace import ConfigurationSpace\n",
    "from ConfigSpace.hyperparameters import CategoricalHyperparameter, UniformFloatHyperparameter, UniformIntegerHyperparameter\n",
    "from ConfigSpace.conditions import InCondition\n",
    "from ConfigSpace.forbidden import ForbiddenEqualsClause\n",
    "\n",
    "def get_configspace():\n",
    "    learning_rate = CategoricalHyperparameter(\"learning_rate\", choices=[\"adaptive\", \"constant\"])\n",
    "    alpha = UniformFloatHyperparameter(\"alpha\", lower=1e-7, upper=1e-1, log=True)\n",
    "    max_iter = UniformIntegerHyperparameter(\"max_iter\", lower=100, upper=1000)\n",
    "    eta0 = UniformFloatHyperparameter(\"eta0\", lower=1e-4, upper=1.0)\n",
    "    early_stopping = CategoricalHyperparameter(\"early_stopping\", choices=[True, False], default_value=True)\n",
    "\n",
    "    config_space = ConfigurationSpace()\n",
    "    config_space.add_hyperparameters([learning_rate, alpha, max_iter, eta0, early_stopping])\n",
    "\n",
    "    eta0_condition = InCondition(eta0, learning_rate, values=[\"constant\"])\n",
    "    config_space.add_condition(eta0_condition)\n",
    "\n",
    "    forbidden_clause = ForbiddenEqualsClause(eta0, None, learning_rate)\n",
    "    config_space.add_forbidden_clause(forbidden_clause)\n",
    "\n",
    "    return config_space\n"
   ]
  },
  {
   "cell_type": "code",
   "execution_count": 8,
   "id": "d92ccec2",
   "metadata": {},
   "outputs": [
    {
     "name": "stderr",
     "output_type": "stream",
     "text": [
      "/var/folders/27/qmbdy4fs531c8887h6nfgych0000gn/T/ipykernel_77942/4245066465.py:14: DeprecationWarning: Please use `space.add(hyperparameters)`\n",
      "  config_space.add_hyperparameters([learning_rate, alpha, max_iter, eta0, early_stopping])\n",
      "/var/folders/27/qmbdy4fs531c8887h6nfgych0000gn/T/ipykernel_77942/4245066465.py:17: DeprecationWarning: Please use `space.add(condition)`\n",
      "  config_space.add_condition(eta0_condition)\n"
     ]
    },
    {
     "ename": "TypeError",
     "evalue": "ForbiddenEqualsClause.__init__() takes 3 positional arguments but 4 were given",
     "output_type": "error",
     "traceback": [
      "\u001b[0;31m---------------------------------------------------------------------------\u001b[0m",
      "\u001b[0;31mTypeError\u001b[0m                                 Traceback (most recent call last)",
      "Cell \u001b[0;32mIn[8], line 1\u001b[0m\n\u001b[0;32m----> 1\u001b[0m config \u001b[38;5;241m=\u001b[39m \u001b[43mget_configspace\u001b[49m\u001b[43m(\u001b[49m\u001b[43m)\u001b[49m\n",
      "Cell \u001b[0;32mIn[7], line 19\u001b[0m, in \u001b[0;36mget_configspace\u001b[0;34m()\u001b[0m\n\u001b[1;32m     16\u001b[0m eta0_condition \u001b[38;5;241m=\u001b[39m InCondition(eta0, learning_rate, values\u001b[38;5;241m=\u001b[39m[\u001b[38;5;124m\"\u001b[39m\u001b[38;5;124mconstant\u001b[39m\u001b[38;5;124m\"\u001b[39m])\n\u001b[1;32m     17\u001b[0m config_space\u001b[38;5;241m.\u001b[39madd_condition(eta0_condition)\n\u001b[0;32m---> 19\u001b[0m forbidden_clause \u001b[38;5;241m=\u001b[39m \u001b[43mForbiddenEqualsClause\u001b[49m\u001b[43m(\u001b[49m\u001b[43meta0\u001b[49m\u001b[43m,\u001b[49m\u001b[43m \u001b[49m\u001b[38;5;28;43;01mNone\u001b[39;49;00m\u001b[43m,\u001b[49m\u001b[43m \u001b[49m\u001b[43mlearning_rate\u001b[49m\u001b[43m)\u001b[49m\n\u001b[1;32m     20\u001b[0m config_space\u001b[38;5;241m.\u001b[39madd_forbidden_clause(forbidden_clause)\n\u001b[1;32m     22\u001b[0m \u001b[38;5;28;01mreturn\u001b[39;00m config_space\n",
      "\u001b[0;31mTypeError\u001b[0m: ForbiddenEqualsClause.__init__() takes 3 positional arguments but 4 were given"
     ]
    }
   ],
   "source": [
    "config = get_configspace()"
   ]
  }
 ],
 "metadata": {
  "kernelspec": {
   "display_name": "SMAC",
   "language": "python",
   "name": "python3"
  },
  "language_info": {
   "codemirror_mode": {
    "name": "ipython",
    "version": 3
   },
   "file_extension": ".py",
   "mimetype": "text/x-python",
   "name": "python",
   "nbconvert_exporter": "python",
   "pygments_lexer": "ipython3",
   "version": "3.10.13"
  }
 },
 "nbformat": 4,
 "nbformat_minor": 5
}
